{
 "cells": [
  {
   "cell_type": "code",
   "execution_count": 1,
   "metadata": {
    "collapsed": true
   },
   "outputs": [],
   "source": [
    "import tensorflow as tf"
   ]
  },
  {
   "cell_type": "code",
   "execution_count": 2,
   "metadata": {
    "collapsed": false
   },
   "outputs": [
    {
     "name": "stdout",
     "output_type": "stream",
     "text": [
      "Extracting MNIST_data/train-images-idx3-ubyte.gz\n",
      "Extracting MNIST_data/train-labels-idx1-ubyte.gz\n",
      "Extracting MNIST_data/t10k-images-idx3-ubyte.gz\n",
      "Extracting MNIST_data/t10k-labels-idx1-ubyte.gz\n"
     ]
    }
   ],
   "source": [
    "# import MNIST dataset from tensorflow with one hot encoding style\n",
    "from tensorflow.examples.tutorials import mnist\n",
    "mnist = mnist.input_data.read_data_sets('MNIST_data/', one_hot=True)"
   ]
  },
  {
   "cell_type": "code",
   "execution_count": 3,
   "metadata": {
    "collapsed": false
   },
   "outputs": [],
   "source": [
    "# Hyperparams\n",
    "# Replace LOG_DIR by your log directory\n",
    "learning_rate = 0.01\n",
    "training_iteration = 30 \n",
    "batch_size = 100\n",
    "display_step = 2\n",
    "logdir = LOG_DIR"
   ]
  },
  {
   "cell_type": "code",
   "execution_count": 4,
   "metadata": {
    "collapsed": true
   },
   "outputs": [],
   "source": [
    "# Inputs\n",
    "x = tf.placeholder(\"float\", [None, 784])\n",
    "y = tf.placeholder(\"float\", [None, 10])"
   ]
  },
  {
   "cell_type": "code",
   "execution_count": 5,
   "metadata": {
    "collapsed": false
   },
   "outputs": [],
   "source": [
    "# Set model params \n",
    "W = tf.Variable(tf.zeros([784, 10]))\n",
    "b = tf.Variable(tf.zeros([10]))\n",
    "\n",
    "with tf.name_scope('Wx_b') as scope:\n",
    "    model = tf.nn.softmax(tf.matmul(x, W) + b)\n",
    "    \n",
    "# Add summary stats for weights and bias \n",
    "w_h = tf.histogram_summary(\"weights\", W)\n",
    "b_h = tf.histogram_summary(\"biases\", b)"
   ]
  },
  {
   "cell_type": "code",
   "execution_count": 6,
   "metadata": {
    "collapsed": true
   },
   "outputs": [],
   "source": [
    "with tf.name_scope(\"cost_function\") as scope:\n",
    "    cost_function = -tf.reduce_sum(y * tf.log(model))\n",
    "    tf.scalar_summary(\"cost_function\", cost_function)"
   ]
  },
  {
   "cell_type": "code",
   "execution_count": 7,
   "metadata": {
    "collapsed": false
   },
   "outputs": [],
   "source": [
    "with tf.name_scope(\"train\") as scope:\n",
    "    optimizer = tf.train.GradientDescentOptimizer(learning_rate).minimize(cost_function)"
   ]
  },
  {
   "cell_type": "code",
   "execution_count": 8,
   "metadata": {
    "collapsed": true
   },
   "outputs": [],
   "source": [
    "init = tf.initialize_all_variables()"
   ]
  },
  {
   "cell_type": "code",
   "execution_count": 9,
   "metadata": {
    "collapsed": true
   },
   "outputs": [],
   "source": [
    "merged_summary_opertion = tf.merge_all_summaries()"
   ]
  },
  {
   "cell_type": "code",
   "execution_count": 10,
   "metadata": {
    "collapsed": false
   },
   "outputs": [
    {
     "name": "stdout",
     "output_type": "stream",
     "text": [
      "Iteration: 1, Cost: 29.8604708897\n",
      "Iteration: 3, Cost: 20.9778132664\n",
      "Iteration: 5, Cost: 20.1741527683\n",
      "Iteration: 7, Cost: 19.6968417523\n",
      "Iteration: 9, Cost: 19.3454920821\n",
      "Iteration: 11, Cost: 19.1248761428\n",
      "Iteration: 13, Cost: 18.9505310778\n",
      "Iteration: 15, Cost: 18.7957047827\n",
      "Iteration: 17, Cost: 18.589945814\n",
      "Iteration: 19, Cost: 18.5861166902\n",
      "Iteration: 21, Cost: 18.3694002169\n",
      "Iteration: 23, Cost: 18.376006201\n",
      "Iteration: 25, Cost: 18.2881719442\n",
      "Iteration: 27, Cost: 18.2386381435\n",
      "Iteration: 29, Cost: 18.1866508657\n",
      "0.9201\n"
     ]
    }
   ],
   "source": [
    "# Launch the graph in a session \n",
    "with tf.Session() as session:\n",
    "    session.run(init)\n",
    "    \n",
    "    summary_writer = tf.train.SummaryWriter(\n",
    "        logdir,\n",
    "        session.graph\n",
    "    )\n",
    "    \n",
    "    for iteration in range(training_iteration):\n",
    "        average_cost = 0\n",
    "        total_batch = int(mnist.train.num_examples/batch_size)\n",
    "        \n",
    "        for i in range(total_batch):\n",
    "            batch_xs, batch_ys = mnist.train.next_batch(batch_size)\n",
    "            session.run(optimizer, feed_dict={x: batch_xs, y:batch_ys})\n",
    "            average_cost += session.run(cost_function, feed_dict={x: batch_xs, y:batch_ys})/total_batch\n",
    "            summary_stats = session.run(merged_summary_opertion, feed_dict={x: batch_xs, y:batch_ys})\n",
    "            summary_writer.add_summary(summary_stats, iteration+total_batch+i)\n",
    "        \n",
    "        if iteration % display_step == 0:\n",
    "            print \"Iteration: {}, Cost: {}\".format(iteration+1, average_cost)\n",
    "        # Test the model \n",
    "    predictions = tf.equal(tf.argmax(model, 1), tf.argmax(y, 1))\n",
    "\n",
    "    # Accuracy \n",
    "    accuracy = tf.reduce_mean(tf.cast(predictions, \"float\"))\n",
    "    print accuracy.eval({x: mnist.test.images, y: mnist.test.labels}, session=session)"
   ]
  },
  {
   "cell_type": "markdown",
   "metadata": {
    "collapsed": false
   },
   "source": [
    "# Useful Tips \n",
    "\n",
    "#### Use python [Location of tensorboard.py] --logdir [Location of log directory] to visualise scope data\n",
    "#### Location of tensorboard.py = Location of tensorflow/tensorboard/tensorboard.py\n",
    "#### Location of tensorflow can be found out by - pip show tensorflow"
   ]
  },
  {
   "cell_type": "code",
   "execution_count": null,
   "metadata": {
    "collapsed": true
   },
   "outputs": [],
   "source": []
  },
  {
   "cell_type": "code",
   "execution_count": null,
   "metadata": {
    "collapsed": true
   },
   "outputs": [],
   "source": []
  }
 ],
 "metadata": {
  "anaconda-cloud": {},
  "kernelspec": {
   "display_name": "Python [conda root]",
   "language": "python",
   "name": "conda-root-py"
  },
  "language_info": {
   "codemirror_mode": {
    "name": "ipython",
    "version": 2
   },
   "file_extension": ".py",
   "mimetype": "text/x-python",
   "name": "python",
   "nbconvert_exporter": "python",
   "pygments_lexer": "ipython2",
   "version": "2.7.12"
  }
 },
 "nbformat": 4,
 "nbformat_minor": 1
}
